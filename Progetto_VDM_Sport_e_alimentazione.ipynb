{
  "nbformat": 4,
  "nbformat_minor": 0,
  "metadata": {
    "colab": {
      "name": "Progetto VDM - Sport e alimentazione.ipynb",
      "provenance": [],
      "collapsed_sections": [
        "Mb9wkpDsstoI",
        "4p_Ik9Fys7dL",
        "hGbsKLZYduCF",
        "dLkWH76sdDe6",
        "bM4wZQaIdjGc",
        "OiV9z0AzaAjO",
        "me_zjzWCpjFZ",
        "XIBvftry6WFw",
        "AUw6_0Rn_ymJ",
        "2Lw7fMUSW13R",
        "znjeTkK9C6Pv",
        "zTrAjDFXDmwi",
        "hEujn-fkFHfH",
        "l-_0UdibFaVT",
        "-SxV6ytED--O",
        "7IN39OtnLd7_"
      ],
      "include_colab_link": true
    },
    "kernelspec": {
      "name": "ir",
      "display_name": "R"
    }
  },
  "cells": [
    {
      "cell_type": "markdown",
      "metadata": {
        "id": "view-in-github",
        "colab_type": "text"
      },
      "source": [
        "<a href=\"https://colab.research.google.com/github/bolps/vdm2020/blob/master/Progetto_VDM_Sport_e_alimentazione.ipynb\" target=\"_parent\"><img src=\"https://colab.research.google.com/assets/colab-badge.svg\" alt=\"Open In Colab\"/></a>"
      ]
    },
    {
      "cell_type": "markdown",
      "metadata": {
        "id": "Mb9wkpDsstoI",
        "colab_type": "text"
      },
      "source": [
        "#### Consegna e link utili"
      ]
    },
    {
      "cell_type": "markdown",
      "metadata": {
        "id": "x9aLjlgwSWEg",
        "colab_type": "text"
      },
      "source": [
        "**Consegna del progetto:**\n",
        "\n",
        "1. Costruzione del sottoinsieme dei dati che contenga le informazioni assegnate al gruppo;\n",
        "2. Analisi monovariata e visualizzazione monovariata dei dati del proprio dataset;\n",
        "3. Analisi bivariata e visualizzazione dei dati piu’ interessanti ai fini degli obiettivi di ricerca;\n",
        "4. Analisi multivariata e visualizzazione dei dati complessi."
      ]
    },
    {
      "cell_type": "markdown",
      "metadata": {
        "colab_type": "text",
        "id": "vIHk9A8ypvXB"
      },
      "source": [
        "**Link utili** <br>\n",
        "http://www.sthda.com/english/articles/31-principal-component-methods-in-r-practical-guide/114-mca-multiple-correspondence-analysis-in-r-essentials/ <br>\n",
        "http://www.gastonsanchez.com/visually-enforced/how-to/2012/10/13/MCA-in-R/ <br>\n",
        "https://datascienceplus.com/using-mca-and-variable-clustering-in-r-for-insights-in-customer-attrition/ <br>\n",
        "https://datascienceplus.com/using-mca-and-variable-clustering-in-r-for-insights-in-customer-attrition/"
      ]
    },
    {
      "cell_type": "markdown",
      "metadata": {
        "id": "mho1tpYqtD5u",
        "colab_type": "text"
      },
      "source": [
        "#### **TODO**\n",
        "- [x] Rifare bivariate con nuove variabili\n",
        "- [x] Togliere SPRIV e REGMF\n",
        "- [x] Bozza multivariate\n",
        "- [x] Fix visalizzazione warning in output su github\n",
        "- [ ] Bozza commenti scelte fatte (processo)\n",
        "- [ ] Bozza risultati(processo)"
      ]
    },
    {
      "cell_type": "markdown",
      "metadata": {
        "id": "4p_Ik9Fys7dL",
        "colab_type": "text"
      },
      "source": [
        "#### Contesto e domanda di ricerca"
      ]
    },
    {
      "cell_type": "markdown",
      "metadata": {
        "id": "wNxFgYQbMQbP",
        "colab_type": "text"
      },
      "source": [
        "**Domanda di ricerca** <br>\n",
        "\n",
        "Indagare il legame tra le abitudini sportive, le risorse economiche, l'area geografica e gli indici di salute oggettivi (*Body Mass Index*) e soggettivi (*Salute percepita*) nei 18-35enni residenti in italia, con un focus particolare sul genere.\n",
        "<br><br>\n",
        "**Informazioni sulle variabili e sulla codifica**<br>\n",
        "Per informazioni sulle variabili e sulla loro codifica consultare il tracciato disponibile\n",
        "<a href=\"http://pizzaplanet.epizy.com/vdm/METADATI/AVQ_Tracciato_2018.html\"> qui </a>"
      ]
    },
    {
      "cell_type": "markdown",
      "metadata": {
        "id": "hGbsKLZYduCF",
        "colab_type": "text"
      },
      "source": [
        "#### Installazione librerie"
      ]
    },
    {
      "cell_type": "code",
      "metadata": {
        "id": "e5iHc9FM_S8a",
        "colab_type": "code",
        "colab": {}
      },
      "source": [
        "options(warn=-1)"
      ],
      "execution_count": 1,
      "outputs": []
    },
    {
      "cell_type": "code",
      "metadata": {
        "id": "RO5PAq_NVwW6",
        "colab_type": "code",
        "colab": {}
      },
      "source": [
        "# TEMPO DI INSTALLAZIONE STIMATO: 4 MINUTI\n",
        "list.of.packages <- c(\"RCurl\",\"readr\",\"ggplot2\", \"RColorBrewer\",\"graphics\",\"vcd\",\"FactoMineR\",\"factoextra\")\n",
        "new.packages <- list.of.packages[!(list.of.packages %in% installed.packages()[,\"Package\"])]\n",
        "if(length(new.packages)) install.packages(new.packages)"
      ],
      "execution_count": 2,
      "outputs": []
    },
    {
      "cell_type": "markdown",
      "metadata": {
        "id": "dLkWH76sdDe6",
        "colab_type": "text"
      },
      "source": [
        "#### Download e caricamento del dataset"
      ]
    },
    {
      "cell_type": "code",
      "metadata": {
        "id": "qOXAEbjX0NIP",
        "colab_type": "code",
        "colab": {}
      },
      "source": [
        "library(RCurl)\n",
        "download.file(\"https://raw.githubusercontent.com/bolps/dataset/master/AVQ_Microdati_2018.txt\", \"AVQ_Microdati_2018.txt\")"
      ],
      "execution_count": 3,
      "outputs": []
    },
    {
      "cell_type": "code",
      "metadata": {
        "id": "1hOh4J9WdPR1",
        "colab_type": "code",
        "colab": {}
      },
      "source": [
        "library(readr)\n",
        "AVQ_Microdati_2018 <- read_delim(\n",
        "  \"AVQ_Microdati_2018.txt\",\n",
        "  \"\\t\",\n",
        "  escape_double=FALSE,\n",
        "  na=\"NA\",\n",
        "  trim_ws=TRUE,\n",
        "  col_types = cols(\n",
        "    'REACQ3'=col_double(),'REACQ5'=col_double(),\n",
        "    'NODELE'=col_double(),'NOSPO6'=col_double(),\n",
        "    'ORARIS'=col_double(),'NOMED' =col_double(),\n",
        "    'CONASS'=col_double(),'MALAT' =col_double(),\n",
        "    'ABBAND'=col_double(),'NONVUO'=col_double()\n",
        "  )\n",
        ")"
      ],
      "execution_count": 4,
      "outputs": []
    },
    {
      "cell_type": "markdown",
      "metadata": {
        "id": "bM4wZQaIdjGc",
        "colab_type": "text"
      },
      "source": [
        "##### Estrazione delle varabili, ricodifica e fix vari\n"
      ]
    },
    {
      "cell_type": "code",
      "metadata": {
        "id": "nvBLr0Wz9V7f",
        "colab_type": "code",
        "colab": {}
      },
      "source": [
        "AVQ18.sport <- AVQ_Microdati_2018[AVQ_Microdati_2018$ETAMi>='007'&AVQ_Microdati_2018$ETAMi<='009',c(\n",
        "  'ETAMi','SESSO','CITTMi','STCIVMi','ISTRMi','CONDMi','RISEC', 'REGMF', 'RIPMF',\n",
        "  'SPOCON', 'SPOSAL', 'ATTFIS','FREQSPO', 'SPRIV', #spocon, sposal, attfis -> sport\n",
        "  'AMBIENTE','TEMLIB','SALUT','BMI')]"
      ],
      "execution_count": 5,
      "outputs": []
    },
    {
      "cell_type": "code",
      "metadata": {
        "id": "iYa7ZnBBsm_s",
        "colab_type": "code",
        "colab": {
          "base_uri": "https://localhost:8080/",
          "height": 0
        },
        "outputId": "488718c3-df01-468c-8d3e-b48257895977"
      },
      "source": [
        "# Verifico la struttura del dataset selezionato\n",
        "str(AVQ18.sport)"
      ],
      "execution_count": 6,
      "outputs": [
        {
          "output_type": "stream",
          "text": [
            "tibble [7,372 × 18] (S3: tbl_df/tbl/data.frame)\n",
            " $ ETAMi   : chr [1:7372] \"008\" \"009\" \"008\" \"008\" ...\n",
            " $ SESSO   : num [1:7372] 1 2 1 2 2 2 1 1 2 2 ...\n",
            " $ CITTMi  : num [1:7372] 1 1 1 1 1 1 3 1 1 1 ...\n",
            " $ STCIVMi : num [1:7372] 1 1 1 1 1 1 1 1 1 1 ...\n",
            " $ ISTRMi  : chr [1:7372] \"07\" \"01\" \"07\" \"01\" ...\n",
            " $ CONDMi  : num [1:7372] 2 1 1 1 1 3 1 1 3 3 ...\n",
            " $ RISEC   : num [1:7372] 2 2 2 2 2 3 2 2 3 3 ...\n",
            " $ REGMF   : chr [1:7372] \"070\" \"070\" \"070\" \"070\" ...\n",
            " $ RIPMF   : num [1:7372] 1 1 1 1 1 1 3 3 3 3 ...\n",
            " $ SPOCON  : num [1:7372] 1 2 2 2 1 1 1 2 1 2 ...\n",
            " $ SPOSAL  : num [1:7372] 1 NA NA NA 2 1 1 NA 1 NA ...\n",
            " $ ATTFIS  : num [1:7372] 1 NA NA NA NA 2 3 NA 1 NA ...\n",
            " $ FREQSPO : num [1:7372] NA 3 1 2 3 NA NA 4 NA NA ...\n",
            " $ SPRIV   : num [1:7372] NA 1 1 2 2 NA NA 1 NA 1 ...\n",
            " $ AMBIENTE: num [1:7372] 3 2 2 2 3 3 2 3 1 1 ...\n",
            " $ TEMLIB  : num [1:7372] 3 1 2 2 2 3 2 1 2 2 ...\n",
            " $ SALUT   : num [1:7372] 3 1 2 1 2 3 2 2 2 2 ...\n",
            " $ BMI     : num [1:7372] 2 2 2 2 1 2 2 2 2 2 ...\n"
          ],
          "name": "stdout"
        }
      ]
    },
    {
      "cell_type": "code",
      "metadata": {
        "id": "0msXO6sLd_h4",
        "colab_type": "code",
        "colab": {}
      },
      "source": [
        "# Trasformo la tipologia delle variabili in linea con quanto indicato nel tracciato\n",
        "for (i in 1:length(AVQ18.sport))\n",
        "  AVQ18.sport[[i]]<-as.factor(AVQ18.sport[[i]])"
      ],
      "execution_count": 7,
      "outputs": []
    },
    {
      "cell_type": "code",
      "metadata": {
        "id": "sHxfz8P9eCc2",
        "colab_type": "code",
        "colab": {}
      },
      "source": [
        "# Assegno l'etichetta corrispondente ai livelli delle variabili\n",
        "# Per uniformare il dataset l'opzione 'non disponibile' è stata ricodificata come NA\n",
        "\n",
        "levels(AVQ18.sport$ETAMi) <- c(\n",
        "    \"18-19 anni\", \n",
        "    \"20-24 anni\", \n",
        "    \"25-34 anni\"\n",
        ")\n",
        "\n",
        "levels(AVQ18.sport$SESSO) <- c(\n",
        "    \"maschio\",\n",
        "    \"femmina\"\n",
        ")\n",
        "\n",
        "levels(AVQ18.sport$CITTMi) <- c(\n",
        "    \"italiana\",\n",
        "    \"straniera\",\n",
        "    NA\n",
        ")\n",
        "\n",
        "levels(AVQ18.sport$STCIVMi) <- c(\n",
        "    \"celibe/nubile\",\n",
        "    \"coniugato/unito civilmente\",\n",
        "    \"separato/divorziato\",\n",
        "    \"vedovo\",\n",
        "    NA\n",
        ")\n",
        "\n",
        "levels(AVQ18.sport$ISTRMi) <- c(\n",
        "    \"laurea e post-laurea\"\n",
        "    ,\"diploma\"\n",
        "    ,\"licenza di scuola media\"\n",
        "    ,\"licenza di scuola elementare/nessun titolo\",\n",
        "    NA\n",
        ")\n",
        "\n",
        "levels(AVQ18.sport$CONDMi) <- c(\n",
        "    \"occupato\",\n",
        "    \"in cerca di occupazione\",\n",
        "    \"inattivo; altra condizione\",\n",
        "    NA\n",
        ")\n",
        "\n",
        "levels(AVQ18.sport$RISEC) <- c(\n",
        "    \"ottime\",\n",
        "    \"adeguate\",\n",
        "    \"scarse\",\n",
        "    \"assolutamente insufficienti\"\n",
        ")\n",
        "\n",
        "# Per pulire i livelli della variabile e eliminare ridondanza con la variabile RIPMF, \"Nord-ovest\", \"Nord-est\", \"Centro\", \"Sud\", \"Isole\" sono state ricodificate come NA\n",
        "levels(AVQ18.sport$REGMF) <- c(\n",
        "    \"Piemonte\",\n",
        "    \"Valle d'Aosta\",\n",
        "    \"Lombardia\",\n",
        "    \"Trentino-Alto Adige\",\n",
        "    \"Veneto\",\n",
        "    \"Friuli-Venezia Giulia\",\n",
        "    \"Liguria\",\n",
        "    \"Emilia-Romagna\",\n",
        "    \"Toscana\",\n",
        "    \"Umbria\",\n",
        "    \"Marche\",\n",
        "    \"Lazio\",\n",
        "    \"Abruzzo\", \n",
        "    \"Molise\", \n",
        "    \"Campania\", \n",
        "    \"Puglia\", \n",
        "    \"Basilicata\", \n",
        "    \"Calabria\", \n",
        "    \"Sicilia\", \n",
        "    \"Sardegna\", \n",
        "    NA, \n",
        "    NA, \n",
        "    NA, \n",
        "    NA, \n",
        "    NA, \n",
        "    NA\n",
        ")\n",
        "\n",
        "levels(AVQ18.sport$RIPMF) <- c(\n",
        "    \"Nord-ovest\",\n",
        "    \"Nord-est\",\n",
        "    \"Centro\",\n",
        "    \"Sud\",\n",
        "    \"Isole\",\n",
        "    NA\n",
        ")\n",
        "\n",
        "for (i in c(\"SPOCON\", \"SPOSAL\"))\n",
        "    levels(AVQ18.sport[[i]])<- c(\n",
        "      \"no\", \n",
        "      \"si\"\n",
        "    )\n",
        "\n",
        "levels(AVQ18.sport$ATTFIS) <- c(\n",
        "    \"no\",\n",
        "    \"si, una o più volte a settimana\",\n",
        "    \"si, una o più volte al mese\",\n",
        "    \"si, più raramente\"\n",
        ")\n",
        "\n",
        "levels(AVQ18.sport$FREQSPO) <- c(\n",
        "    \"cinque o più volte a settimana\",\n",
        "    \"tre o quattro volte a settimana\",\n",
        "    \"due volte a settimana\",\n",
        "    \"una volta a settimana\",\n",
        "    \"due o tre volte al mese\",\n",
        "    \"una volta al mese\",\n",
        "    \"qualche volta durante l'anno\"\n",
        ")\n",
        "\n",
        "levels(AVQ18.sport$AMBIENTE) <- c(\n",
        "    \"molto\",\n",
        "    \"abbastanza\",\n",
        "    \"poco\",\n",
        "    \"per niente\"\n",
        ")\n",
        "\n",
        "levels(AVQ18.sport$SPRIV) <- c(\n",
        "    \"no\",\n",
        "    \"si\"\n",
        ")\n",
        "\n",
        "for (i in c(\"AMBIENTE\", \"TEMLIB\",\"SALUT\"))\n",
        "    levels(AVQ18.sport[[i]])<- c(\n",
        "        \"molto\",\n",
        "        \"abbastanza\",\n",
        "        \"poco\",\n",
        "        \"per niente\"\n",
        "    )\n",
        "\n",
        "levels(AVQ18.sport$BMI) <- c(\n",
        "    \"sottopeso\", \n",
        "    \"normopeso\", \n",
        "    \"sovrappeso\", \n",
        "    \"obeso\"\n",
        ")"
      ],
      "execution_count": 8,
      "outputs": []
    },
    {
      "cell_type": "code",
      "metadata": {
        "id": "caNF9SVZxsRj",
        "colab_type": "code",
        "colab": {}
      },
      "source": [
        "AVQ18.sport$SPORT <- ifelse(AVQ18.sport$SPOCON==\"si\", \"sport continuativo\", \n",
        "                             ifelse(AVQ18.sport$SPOSAL==\"si\", \"sport saltuario\", \n",
        "                               ifelse(AVQ18.sport$ATTFIS==\"si, una o più volte a settimana\", \"attività fisica continuativa\",\n",
        "                                 ifelse(AVQ18.sport$ATTFIS==\"si, una o più volte al mese\" | AVQ18.sport$ATTFIS==\"si, più raramente\", \"attività fisica saltuaria\", \n",
        "                                    ifelse(AVQ18.sport$ATTFIS==\"no\", \"nessuna attività\", NA)))))\n",
        "                                    \n",
        "AVQ18.sport$SPORT <- as.factor(AVQ18.sport$SPORT)\n",
        "AVQ18.sport$SPORT <- factor(AVQ18.sport$SPORT,levels(AVQ18.sport$SPORT)[c(4,5,1,2,3)])"
      ],
      "execution_count": 9,
      "outputs": []
    },
    {
      "cell_type": "code",
      "metadata": {
        "id": "0hwByycO9XvX",
        "colab_type": "code",
        "colab": {}
      },
      "source": [
        "AVQ18.sport <- AVQ18.sport[,c(\n",
        "  'ETAMi','SESSO','CITTMi','STCIVMi','ISTRMi','CONDMi','RISEC', 'RIPMF',\n",
        "  'SPORT','FREQSPO',\n",
        "  'SALUT','BMI')]"
      ],
      "execution_count": 10,
      "outputs": []
    },
    {
      "cell_type": "code",
      "metadata": {
        "id": "wuyhWpH1svdm",
        "colab_type": "code",
        "colab": {
          "base_uri": "https://localhost:8080/",
          "height": 0
        },
        "outputId": "31bb6a7c-a540-4a23-c11b-613ea5acf94b"
      },
      "source": [
        "# Visualizzo la struttura del dataset per verificare le modifiche applicate\n",
        "str(AVQ18.sport)"
      ],
      "execution_count": 11,
      "outputs": [
        {
          "output_type": "stream",
          "text": [
            "tibble [7,372 × 12] (S3: tbl_df/tbl/data.frame)\n",
            " $ ETAMi  : Factor w/ 3 levels \"18-19 anni\",\"20-24 anni\",..: 2 3 2 2 3 1 2 3 3 3 ...\n",
            " $ SESSO  : Factor w/ 2 levels \"maschio\",\"femmina\": 1 2 1 2 2 2 1 1 2 2 ...\n",
            " $ CITTMi : Factor w/ 2 levels \"italiana\",\"straniera\": 1 1 1 1 1 1 2 1 1 1 ...\n",
            " $ STCIVMi: Factor w/ 4 levels \"celibe/nubile\",..: 1 1 1 1 1 1 1 1 1 1 ...\n",
            " $ ISTRMi : Factor w/ 4 levels \"laurea e post-laurea\",..: 2 1 2 1 1 2 2 1 2 2 ...\n",
            " $ CONDMi : Factor w/ 3 levels \"occupato\",\"in cerca di occupazione\",..: 2 1 1 1 1 3 1 1 3 3 ...\n",
            " $ RISEC  : Factor w/ 4 levels \"ottime\",\"adeguate\",..: 2 2 2 2 2 3 2 2 3 3 ...\n",
            " $ RIPMF  : Factor w/ 5 levels \"Nord-ovest\",\"Nord-est\",..: 1 1 1 1 1 1 3 3 3 3 ...\n",
            " $ SPORT  : Factor w/ 5 levels \"sport continuativo\",..: 5 1 1 1 2 3 4 1 5 1 ...\n",
            " $ FREQSPO: Factor w/ 7 levels \"cinque o più volte a settimana\",..: NA 3 1 2 3 NA NA 4 NA NA ...\n",
            " $ SALUT  : Factor w/ 4 levels \"molto\",\"abbastanza\",..: 3 1 2 1 2 3 2 2 2 2 ...\n",
            " $ BMI    : Factor w/ 4 levels \"sottopeso\",\"normopeso\",..: 2 2 2 2 1 2 2 2 2 2 ...\n"
          ],
          "name": "stdout"
        }
      ]
    },
    {
      "cell_type": "markdown",
      "metadata": {
        "id": "OiV9z0AzaAjO",
        "colab_type": "text"
      },
      "source": [
        "#### Analisi monovariata // Summary per macrocategoria di variabili"
      ]
    },
    {
      "cell_type": "code",
      "metadata": {
        "id": "8xlVICw7eGPd",
        "colab_type": "code",
        "colab": {
          "base_uri": "https://localhost:8080/",
          "height": 0
        },
        "outputId": "bfd841b2-44ab-4d5c-df9b-8ae1a57b870e"
      },
      "source": [
        "# Visualizzo summary delle variabili socio-demografiche\n",
        "summary(AVQ18.sport[,c('ETAMi','SESSO','CITTMi','STCIVMi','ISTRMi','CONDMi','RISEC', 'REGMF', 'RIPMF')])"
      ],
      "execution_count": 12,
      "outputs": [
        {
          "output_type": "error",
          "ename": "ERROR",
          "evalue": "ignored",
          "traceback": [
            "Error: Can't subset columns that don't exist.\n\u001b[31m✖\u001b[39m Column `REGMF` doesn't exist.\nTraceback:\n",
            "1. summary(AVQ18.sport[, c(\"ETAMi\", \"SESSO\", \"CITTMi\", \"STCIVMi\", \n .     \"ISTRMi\", \"CONDMi\", \"RISEC\", \"REGMF\", \"RIPMF\")])",
            "2. AVQ18.sport[, c(\"ETAMi\", \"SESSO\", \"CITTMi\", \"STCIVMi\", \"ISTRMi\", \n .     \"CONDMi\", \"RISEC\", \"REGMF\", \"RIPMF\")]",
            "3. `[.tbl_df`(AVQ18.sport, , c(\"ETAMi\", \"SESSO\", \"CITTMi\", \"STCIVMi\", \n .     \"ISTRMi\", \"CONDMi\", \"RISEC\", \"REGMF\", \"RIPMF\"))",
            "4. vectbl_as_col_location(j, length(xo), names(xo), j_arg = j_arg, \n .     assign = FALSE)",
            "5. subclass_col_index_errors(vec_as_location(j, n, names), j_arg = j_arg, \n .     assign = assign)",
            "6. withCallingHandlers(expr, vctrs_error_subscript = function(cnd) {\n .     cnd$subscript_arg <- j_arg\n .     cnd$subscript_elt <- \"column\"\n .     if (isTRUE(assign) && !isTRUE(cnd$subscript_action %in% c(\"negate\"))) {\n .         cnd$subscript_action <- \"assign\"\n .     }\n .     cnd_signal(cnd)\n . })",
            "7. vec_as_location(j, n, names)",
            "8. stop_subscript_oob(i = i, subscript_type = subscript_type, names = names, \n .     subscript_action = subscript_action, subscript_arg = subscript_arg)",
            "9. stop_subscript(class = \"vctrs_error_subscript_oob\", i = i, subscript_type = subscript_type, \n .     ...)",
            "10. abort(class = c(class, \"vctrs_error_subscript\"), i = i, ...)",
            "11. signal_abort(cnd)",
            "12. signalCondition(cnd)",
            "13. (function (cnd) \n  . {\n  .     cnd$subscript_arg <- j_arg\n  .     cnd$subscript_elt <- \"column\"\n  .     if (isTRUE(assign) && !isTRUE(cnd$subscript_action %in% c(\"negate\"))) {\n  .         cnd$subscript_action <- \"assign\"\n  .     }\n  .     cnd_signal(cnd)\n  . })(structure(list(message = \"\", trace = structure(list(calls = list(\n  .     IRkernel::main(), kernel$run(), IRkernel:::handle_shell(), \n  .     executor$execute(msg), base::tryCatch(evaluate(request$content$code, \n  .         envir = .GlobalEnv, output_handler = oh, stop_on_error = 1L), \n  .         interrupt = function(cond) interrupted <<- TRUE, error = .self$handle_error), \n  .     base:::tryCatchList(expr, classes, parentenv, handlers), \n  .     base:::tryCatchOne(tryCatchList(expr, names[-nh], parentenv, \n  .         handlers[-nh]), names[nh], parentenv, handlers[[nh]]), \n  .     base:::doTryCatch(return(expr), name, parentenv, handler), \n  .     base:::tryCatchList(expr, names[-nh], parentenv, handlers[-nh]), \n  .     base:::tryCatchOne(expr, names, parentenv, handlers[[1L]]), \n  .     base:::doTryCatch(return(expr), name, parentenv, handler), \n  .     evaluate::evaluate(request$content$code, envir = .GlobalEnv, \n  .         output_handler = oh, stop_on_error = 1L), evaluate:::evaluate_call(expr, \n  .         parsed$src[[i]], envir = envir, enclos = enclos, debug = debug, \n  .         last = i == length(out), use_try = stop_on_error != 2L, \n  .         keep_warning = keep_warning, keep_message = keep_message, \n  .         output_handler = output_handler, include_timing = include_timing), \n  .     evaluate:::timing_fn(handle(ev <- withCallingHandlers(withVisible(eval(expr, \n  .         envir, enclos)), warning = wHandler, error = eHandler, \n  .         message = mHandler))), evaluate:::handle(ev <- withCallingHandlers(withVisible(eval(expr, \n  .         envir, enclos)), warning = wHandler, error = eHandler, \n  .         message = mHandler)), base::try(f, silent = TRUE), base::tryCatch(expr, \n  .         error = function(e) {\n  .             call <- conditionCall(e)\n  .             if (!is.null(call)) {\n  .                 if (identical(call[[1L]], quote(doTryCatch))) \n  .                   call <- sys.call(-4L)\n  .                 dcall <- deparse(call)[1L]\n  .                 prefix <- paste(\"Error in\", dcall, \": \")\n  .                 LONG <- 75L\n  .                 sm <- strsplit(conditionMessage(e), \"\\n\")[[1L]]\n  .                 w <- 14L + nchar(dcall, type = \"w\") + nchar(sm[1L], \n  .                   type = \"w\")\n  .                 if (is.na(w)) \n  .                   w <- 14L + nchar(dcall, type = \"b\") + nchar(sm[1L], \n  .                     type = \"b\")\n  .                 if (w > LONG) \n  .                   prefix <- paste0(prefix, \"\\n  \")\n  .             }\n  .             else prefix <- \"Error : \"\n  .             msg <- paste0(prefix, conditionMessage(e), \"\\n\")\n  .             .Internal(seterrmessage(msg[1L]))\n  .             if (!silent && isTRUE(getOption(\"show.error.messages\"))) {\n  .                 cat(msg, file = outFile)\n  .                 .Internal(printDeferredWarnings())\n  .             }\n  .             invisible(structure(msg, class = \"try-error\", condition = e))\n  .         }), base:::tryCatchList(expr, classes, parentenv, handlers), \n  .     base:::tryCatchOne(expr, names, parentenv, handlers[[1L]]), \n  .     base:::doTryCatch(return(expr), name, parentenv, handler), \n  .     base::withCallingHandlers(withVisible(eval(expr, envir, enclos)), \n  .         warning = wHandler, error = eHandler, message = mHandler), \n  .     base::withVisible(eval(expr, envir, enclos)), base::eval(expr, \n  .         envir, enclos), base::eval(expr, envir, enclos), base::summary(AVQ18.sport[, \n  .         c(\"ETAMi\", \"SESSO\", \"CITTMi\", \"STCIVMi\", \"ISTRMi\", \"CONDMi\", \n  .             \"RISEC\", \"REGMF\", \"RIPMF\")]), AVQ18.sport[, c(\"ETAMi\", \n  .         \"SESSO\", \"CITTMi\", \"STCIVMi\", \"ISTRMi\", \"CONDMi\", \"RISEC\", \n  .         \"REGMF\", \"RIPMF\")], tibble:::`[.tbl_df`(AVQ18.sport, \n  .         , c(\"ETAMi\", \"SESSO\", \"CITTMi\", \"STCIVMi\", \"ISTRMi\", \n  .             \"CONDMi\", \"RISEC\", \"REGMF\", \"RIPMF\")), tibble:::vectbl_as_col_location(j, \n  .         length(xo), names(xo), j_arg = j_arg, assign = FALSE), \n  .     tibble:::subclass_col_index_errors(vec_as_location(j, n, \n  .         names), j_arg = j_arg, assign = assign), base::withCallingHandlers(expr, \n  .         vctrs_error_subscript = function(cnd) {\n  .             cnd$subscript_arg <- j_arg\n  .             cnd$subscript_elt <- \"column\"\n  .             if (isTRUE(assign) && !isTRUE(cnd$subscript_action %in% \n  .                 c(\"negate\"))) {\n  .                 cnd$subscript_action <- \"assign\"\n  .             }\n  .             cnd_signal(cnd)\n  .         }), vctrs::vec_as_location(j, n, names), vctrs:::stop_subscript_oob(i = i, \n  .         subscript_type = subscript_type, names = names, subscript_action = subscript_action, \n  .         subscript_arg = subscript_arg), vctrs:::stop_subscript(class = \"vctrs_error_subscript_oob\", \n  .         i = i, subscript_type = subscript_type, ...)), parents = c(0L, \n  . 1L, 2L, 3L, 4L, 5L, 6L, 7L, 6L, 9L, 10L, 4L, 12L, 13L, 13L, 15L, \n  . 16L, 17L, 18L, 19L, 13L, 13L, 13L, 23L, 0L, 0L, 0L, 27L, 28L, \n  . 29L, 28L, 0L, 32L), ids = c(\"0x5592ab922890\", \"0x5592abd47d58\", \n  . \"0x5592b0de2430\", \"0x5592b0a51d58\", \"0x5592b05f1c78\", \"0x5592b05ef540\", \n  . \"0x5592b05ef888\", \"0x5592b05efbd0\", \"0x5592b05ec318\", \"0x5592b05ec6d0\", \n  . \"0x5592b05eca18\", \"0x5592b05ed150\", \"0x5592b04e6938\", \"0x5592b04d6f58\", \n  . \"0x5592b04d7038\", \"0x5592b04d71c0\", \"0x5592b04d73f0\", \"0x5592b04d7b28\", \n  . \"0x5592b04d7ea8\", \"0x5592b04d44a0\", \"0x5592b04d4a18\", \"0x5592b04d4fc8\", \n  . \"0x5592b04d51f8\", \"global\", \"0x5592b04d56c8\", \"0x5592b04d5930\", \n  . \"0x5592b04d5cb0\", \"0x5592b04d0628\", \"0x5592b04d0858\", \"0x5592b04d0a18\", \n  . \"0x5592b04d1118\", \"0x5592b04ceb68\", \"0x5592b04cf738\"), indices = 1:33), class = \"rlang_trace\"), \n  .     parent = NULL, i = c(\"ETAMi\", \"SESSO\", \"CITTMi\", \"STCIVMi\", \n  .     \"ISTRMi\", \"CONDMi\", \"RISEC\", \"REGMF\", \"RIPMF\"), subscript_type = \"character\", \n  .     names = c(\"ETAMi\", \"SESSO\", \"CITTMi\", \"STCIVMi\", \"ISTRMi\", \n  .     \"CONDMi\", \"RISEC\", \"RIPMF\", \"SPORT\", \"FREQSPO\", \"SALUT\", \n  .     \"BMI\"), subscript_action = NULL, subscript_arg = \"\"), class = c(\"vctrs_error_subscript_oob\", \n  . \"vctrs_error_subscript\", \"rlang_error\", \"error\", \"condition\")))",
            "14. cnd_signal(cnd)",
            "15. rlang:::signal_abort(x)"
          ]
        }
      ]
    },
    {
      "cell_type": "code",
      "metadata": {
        "id": "gOi7Xhq3jOOA",
        "colab_type": "code",
        "colab": {}
      },
      "source": [
        "# Visualizzo il summary delle variabili relative allo sport e all'attività fisica\n",
        "summary(AVQ18.sport[,c('SPORT','FREQSPO', 'SPRIV')])"
      ],
      "execution_count": null,
      "outputs": []
    },
    {
      "cell_type": "code",
      "metadata": {
        "id": "4vlaCvy_pWFG",
        "colab_type": "code",
        "colab": {}
      },
      "source": [
        "# Visualizzo il summary relativo a BMI, stato di salute percepita e soddisfazione per il tempo libero\n",
        "summary(AVQ18.sport[,c('AMBIENTE','TEMLIB','SALUT','BMI')])"
      ],
      "execution_count": null,
      "outputs": []
    },
    {
      "cell_type": "markdown",
      "metadata": {
        "id": "me_zjzWCpjFZ",
        "colab_type": "text"
      },
      "source": [
        "#### Analisi monovariata // Variabili socio-demografiche\n",
        "\n"
      ]
    },
    {
      "cell_type": "code",
      "metadata": {
        "id": "Ai61UUhazaI1",
        "colab_type": "code",
        "colab": {}
      },
      "source": [
        "library(RColorBrewer)\n",
        "library(ggplot2)"
      ],
      "execution_count": null,
      "outputs": []
    },
    {
      "cell_type": "code",
      "metadata": {
        "id": "fIFZ-wUlMbGd",
        "colab_type": "code",
        "colab": {}
      },
      "source": [
        "data <- data.frame(\"class\" = levels(AVQ18.sport$ETAMi),\n",
        "                   \"values\" =round(as.vector(table(AVQ18.sport$ETAMi))/sum(as.vector(table(AVQ18.sport$ETAMi)))*100,1))\n",
        "\n",
        "ggplot(data, aes(x=\"\", y=values, fill=class)) +\n",
        "coord_polar(\"y\", start=0) +\n",
        "geom_bar(stat=\"identity\", width=1, color=\"white\") +\n",
        "geom_text(aes(label = paste0(values, \"%\")), position = position_stack(vjust = 0.5)) +\n",
        "labs(x = NULL, y = NULL, fill = NULL, title = \"Grafico a torta età\")+\n",
        "scale_fill_brewer(palette=\"Set1\")+\n",
        "theme_void()"
      ],
      "execution_count": null,
      "outputs": []
    },
    {
      "cell_type": "code",
      "metadata": {
        "id": "Sfks1H2XrX4k",
        "colab_type": "code",
        "colab": {}
      },
      "source": [
        "data <- data.frame(\"class\" = levels(AVQ18.sport$SESSO),\n",
        "                   \"values\" =round(as.vector(table(AVQ18.sport$SESSO))/sum(as.vector(table(AVQ18.sport$SESSO)))*100,1))\n",
        "\n",
        "ggplot(data, aes(x=\"\", y=values, fill=class)) +\n",
        "coord_polar(\"y\", start=0) +\n",
        "geom_bar(stat=\"identity\", width=1, color=\"white\") +\n",
        "geom_text(aes(label = paste0(values, \"%\")), position = position_stack(vjust = 0.5)) +\n",
        "labs(x = NULL, y = NULL, fill = NULL, title = \"Grafico a torta sesso\")+\n",
        "scale_fill_manual( values=c(\"pink\", \"blue\"))+\n",
        "theme_void()"
      ],
      "execution_count": null,
      "outputs": []
    },
    {
      "cell_type": "code",
      "metadata": {
        "id": "2kAjkybNry6R",
        "colab_type": "code",
        "colab": {}
      },
      "source": [
        "data <- data.frame(\"class\" = levels(AVQ18.sport$STCIVMi),\n",
        "                   \"values\" =round(as.vector(table(AVQ18.sport$STCIVMi))/sum(as.vector(table(AVQ18.sport$STCIVMi)))*100,1))\n",
        "\n",
        "ggplot(data, aes(x=\"\", y=values, fill=class)) +\n",
        "coord_polar(\"y\", start=0) +\n",
        "geom_bar(stat=\"identity\", width=1, color=\"white\") +\n",
        "geom_text(aes(label = paste0(values, \"%\")), position = position_stack(vjust = 0.5)) +\n",
        "labs(x = NULL, y = NULL, fill = NULL, title = \"Grafico a torta stato civile\")+\n",
        "scale_fill_brewer(palette=\"Set1\")+\n",
        "theme_void()"
      ],
      "execution_count": null,
      "outputs": []
    },
    {
      "cell_type": "code",
      "metadata": {
        "id": "2vwLBq5fENl1",
        "colab_type": "code",
        "colab": {}
      },
      "source": [
        "data <- data.frame(\"class\" = levels(AVQ18.sport$CITTMi),\n",
        "                   \"values\" =round(as.vector(table(AVQ18.sport$CITTMi))/sum(as.vector(table(AVQ18.sport$CITTMi)))*100,1))\n",
        "\n",
        "ggplot(data, aes(x=\"\", y=values, fill=class)) +\n",
        "coord_polar(\"y\", start=0) +\n",
        "geom_bar(stat=\"identity\", width=1, color=\"white\") +\n",
        "geom_text(aes(label = paste0(values, \"%\")), position = position_stack(vjust = 0.5)) +\n",
        "labs(x = NULL, y = NULL, fill = NULL, title = \"Grafico a torta cittadinanza\")+\n",
        "scale_fill_brewer(palette=\"Set1\", direction=-1)+\n",
        "theme_void()"
      ],
      "execution_count": null,
      "outputs": []
    },
    {
      "cell_type": "code",
      "metadata": {
        "id": "c7auPTYrLauk",
        "colab_type": "code",
        "colab": {}
      },
      "source": [
        "data <- data.frame(\"class\" = levels(AVQ18.sport$ISTRMi),\n",
        "                   \"values\" =as.vector(table(AVQ18.sport$ISTRMi)))\n",
        "data$class <- factor(data$class, levels = data[[\"class\"]])\n",
        "\n",
        "ggplot(data, aes(x=class, y=values, fill=class))+\n",
        "geom_bar(stat=\"identity\")+\n",
        "theme_bw()+\n",
        "theme(axis.text.x = element_text(angle = 45, hjust = 1),panel.grid=element_blank(),panel.border = element_blank(),axis.line = element_line(colour = \"black\"))+\n",
        "labs(title = \"Grafico a barre titolo di studio\", subtitle = \"Sottotitolo\", y = \"frequenza assoluta\", x=\"\", fill = \"\")+\n",
        "scale_fill_brewer(palette=\"Spectral\", direction=-1)"
      ],
      "execution_count": null,
      "outputs": []
    },
    {
      "cell_type": "code",
      "metadata": {
        "id": "zN5GOcbYvImI",
        "colab_type": "code",
        "colab": {}
      },
      "source": [
        "data <- data.frame(\"class\" = levels(AVQ18.sport$CONDMi),\n",
        "                   \"values\" =as.vector(table(AVQ18.sport$CONDMi)))\n",
        "data$class <- factor(data$class, levels = data[[\"class\"]])\n",
        "\n",
        "ggplot(data, aes(x=class, y=values, fill=class))+\n",
        "geom_bar(stat=\"identity\")+\n",
        "theme_bw()+\n",
        "theme(axis.text.x = element_text(angle = 45, hjust = 1),panel.grid=element_blank(),panel.border = element_blank(),axis.line = element_line(colour = \"black\"))+\n",
        "labs(title = \"Grafico a barre condizione professionale\", subtitle = \"Sottotitolo\", y = \"frequenza assoluta\", x=\"\", fill = \"\")+\n",
        "scale_fill_brewer(palette=\"Set1\", direction=-1)"
      ],
      "execution_count": null,
      "outputs": []
    },
    {
      "cell_type": "code",
      "metadata": {
        "id": "0PUHhJY1vZYo",
        "colab_type": "code",
        "colab": {}
      },
      "source": [
        "data <- data.frame(\"class\" = levels(AVQ18.sport$RISEC),\n",
        "                   \"values\" =as.vector(table(AVQ18.sport$RISEC)))\n",
        "data$class <- factor(data$class, levels = data[[\"class\"]])\n",
        "\n",
        "ggplot(data, aes(x=class, y=values, fill=class))+\n",
        "geom_bar(stat=\"identity\")+\n",
        "theme_bw()+\n",
        "theme(axis.text.x = element_text(angle = 45, hjust = 1),panel.grid=element_blank(),panel.border = element_blank(),axis.line = element_line(colour = \"black\"))+\n",
        "labs(title = \"Grafico a barre risorse economiche complessive della famiglia\", subtitle = \"Sottotitolo\", y = \"frequenza assoluta\", x=\"\", fill = \"\")+\n",
        "scale_fill_brewer(palette=\"Spectral\", direction=-1)"
      ],
      "execution_count": null,
      "outputs": []
    },
    {
      "cell_type": "code",
      "metadata": {
        "id": "h-ICVgXfxWnY",
        "colab_type": "code",
        "colab": {}
      },
      "source": [
        "data <- data.frame(\"class\" = levels(AVQ18.sport$RIPMF),\n",
        "                   \"values\" =round(as.vector(table(AVQ18.sport$RIPMF))/sum(as.vector(table(AVQ18.sport$RIPMF)))*100,1))\n",
        "\n",
        "ggplot(data, aes(x=\"\", y=values, fill=class)) +\n",
        "coord_polar(\"y\", start=0) +\n",
        "geom_bar(stat=\"identity\", width=1, color=\"white\") +\n",
        "geom_text(aes(label = paste0(values, \"%\")), position = position_stack(vjust = 0.5)) +\n",
        "labs(x = NULL, y = NULL, fill = NULL, title = \"Grafico a torta ripartizione geografica di residenza dell'intervistato\")+\n",
        "scale_fill_brewer(palette=\"Set1\")+\n",
        "theme_void()"
      ],
      "execution_count": null,
      "outputs": []
    },
    {
      "cell_type": "markdown",
      "metadata": {
        "id": "XIBvftry6WFw",
        "colab_type": "text"
      },
      "source": [
        "#### Analisi monovariata // Variabili sport e attività fisica"
      ]
    },
    {
      "cell_type": "code",
      "metadata": {
        "id": "w19BLBCJ_Yza",
        "colab_type": "code",
        "colab": {}
      },
      "source": [
        "data <- data.frame(\"class\" = levels(AVQ18.sport$SPORT),\n",
        "                   \"values\" =as.vector(table(AVQ18.sport$SPORT)))\n",
        "data$class <- factor(data$class, levels = data[[\"class\"]])\n",
        "\n",
        "ggplot(data, aes(x=class, y=values, fill=class))+\n",
        "geom_bar(stat=\"identity\")+\n",
        "theme_bw()+\n",
        "theme(axis.text.x = element_text(angle = 45, hjust = 1),panel.grid=element_blank(),panel.border = element_blank(),axis.line = element_line(colour = \"black\"))+\n",
        "labs(title = \"Grafico a barre pratica sport/attività fisica\", subtitle = \"Sottotitolo\", y = \"frequenza assoluta\", x=\"\", fill = \"\")+\n",
        "scale_fill_brewer(palette=\"Spectral\", direction=-1)"
      ],
      "execution_count": null,
      "outputs": []
    },
    {
      "cell_type": "code",
      "metadata": {
        "id": "FrMueBw7Vtm4",
        "colab_type": "code",
        "colab": {}
      },
      "source": [
        "data <- data.frame(\"class\" = levels(AVQ18.sport$FREQSPO),\n",
        "                   \"values\" =as.vector(table(AVQ18.sport$FREQSPO)))\n",
        "data$class <- factor(data$class, levels = data[[\"class\"]])\n",
        "\n",
        "ggplot(data, aes(x=class, y=values, fill=class))+\n",
        "geom_bar(stat=\"identity\")+\n",
        "theme_bw()+\n",
        "theme(axis.text.x = element_text(angle = 45, hjust = 1),panel.grid=element_blank(),panel.border = element_blank(),axis.line = element_line(colour = \"black\"))+\n",
        "labs(title = \"Grafico a barre frequenza dell'attività sportiva praticata\", subtitle = \"Sottotitolo\", y = \"frequenza assoluta\", x=\"\", fill = \"\")+\n",
        "scale_fill_brewer(palette=\"Spectral\", direction=-1)"
      ],
      "execution_count": null,
      "outputs": []
    },
    {
      "cell_type": "code",
      "metadata": {
        "id": "huMG4Z-_V0pI",
        "colab_type": "code",
        "colab": {}
      },
      "source": [
        "data <- data.frame(\"class\" = levels(AVQ18.sport$SPRIV),\n",
        "                   \"values\" =round(as.vector(table(na.omit(AVQ18.sport$SPRIV)))/length(as.vector(na.omit(AVQ18.sport$SPRIV)))*100,1))\n",
        "\n",
        "ggplot(data, aes(x=\"\", y=values, fill=class)) +\n",
        "coord_polar(\"y\", start=0) +\n",
        "geom_bar(stat=\"identity\", width=1, color=\"white\") +\n",
        "geom_text(aes(label = paste0(values, \"%\")), position = position_stack(vjust = 0.5)) +\n",
        "labs(x = NULL, y = NULL, fill = NULL, title = \"Grafico a torta ha frequentato sport a pagamento\", subtitle = \"* si riferisce solo a quelli che hanno detto di praticare sport\")+\n",
        "scale_fill_manual( values=c(\"red\", \"blue\"))+\n",
        "theme_void()"
      ],
      "execution_count": null,
      "outputs": []
    },
    {
      "cell_type": "markdown",
      "metadata": {
        "id": "AUw6_0Rn_ymJ",
        "colab_type": "text"
      },
      "source": [
        "#### Analisi monovariata // Variabili BMI, salute percepita e soddisfazione per il tempo libero"
      ]
    },
    {
      "cell_type": "code",
      "metadata": {
        "id": "mrpSPiDDC4xw",
        "colab_type": "code",
        "colab": {}
      },
      "source": [
        "data <- data.frame(\"class\" = levels(AVQ18.sport$TEMLIB),\n",
        "                   \"values\" =as.vector(table(AVQ18.sport$TEMLIB)))\n",
        "data$class <- factor(data$class, levels = data[[\"class\"]])\n",
        "\n",
        "ggplot(data, aes(x=class, y=values, fill=class))+\n",
        "geom_bar(stat=\"identity\")+\n",
        "theme_bw()+\n",
        "theme(axis.text.x = element_text(angle = 45, hjust = 1),panel.grid=element_blank(),panel.border = element_blank(),axis.line = element_line(colour = \"black\"))+\n",
        "labs(title = \"Grafico a barre soddisfazione per il tempo libero\", subtitle = \"Sottotitolo\", y = \"frequenza assoluta\", x=\"\", fill = \"\")+\n",
        "scale_fill_brewer(palette=\"Spectral\", direction=-1)"
      ],
      "execution_count": null,
      "outputs": []
    },
    {
      "cell_type": "code",
      "metadata": {
        "id": "kJ93XAIxaRID",
        "colab_type": "code",
        "colab": {}
      },
      "source": [
        "data <- data.frame(\"class\" = levels(AVQ18.sport$SALUT),\n",
        "                   \"values\" =as.vector(table(AVQ18.sport$SALUT)))\n",
        "data$class <- factor(data$class, levels = data[[\"class\"]])\n",
        "\n",
        "ggplot(data, aes(x=class, y=values, fill=class))+\n",
        "geom_bar(stat=\"identity\")+\n",
        "theme_bw()+\n",
        "theme(axis.text.x = element_text(angle = 45, hjust = 1),panel.grid=element_blank(),panel.border = element_blank(),axis.line = element_line(colour = \"black\"))+\n",
        "labs(title = \"Grafico a barre soddisfazione per la propria salute\", subtitle = \"Sottotitolo\", y = \"frequenza assoluta\", x=\"\", fill = \"\")+\n",
        "scale_fill_brewer(palette=\"Spectral\", direction=-1)"
      ],
      "execution_count": null,
      "outputs": []
    },
    {
      "cell_type": "code",
      "metadata": {
        "id": "6nl7BsN5aSyi",
        "colab_type": "code",
        "colab": {}
      },
      "source": [
        "data <- data.frame(\"class\" = levels(AVQ18.sport$BMI),\n",
        "                   \"values\" =as.vector(table(AVQ18.sport$BMI)))\n",
        "data$class <- factor(data$class, levels = data[[\"class\"]])\n",
        "\n",
        "ggplot(data, aes(x=class, y=values, fill=class))+\n",
        "geom_bar(stat=\"identity\")+\n",
        "theme_bw()+\n",
        "theme(axis.text.x = element_text(angle = 45, hjust = 1),panel.grid=element_blank(),panel.border = element_blank(),axis.line = element_line(colour = \"black\"))+\n",
        "labs(title = \"Grafico a barre indice di massa corporea (BMI)\", subtitle = \"Sottotitolo\", y = \"frequenza assoluta\", x=\"\", fill = \"\")+\n",
        "scale_fill_brewer(palette=\"PuOr\", direction=-1)"
      ],
      "execution_count": null,
      "outputs": []
    },
    {
      "cell_type": "markdown",
      "metadata": {
        "id": "2Lw7fMUSW13R",
        "colab_type": "text"
      },
      "source": [
        "#### Bivariata // Focus Sport"
      ]
    },
    {
      "cell_type": "code",
      "metadata": {
        "id": "bPvgDMjtB0fa",
        "colab_type": "code",
        "colab": {}
      },
      "source": [
        "library(vcd)"
      ],
      "execution_count": null,
      "outputs": []
    },
    {
      "cell_type": "code",
      "metadata": {
        "id": "8DPtz2hTB3ws",
        "colab_type": "code",
        "colab": {}
      },
      "source": [
        "mosaic(~ SPORT + BMI, data = AVQ18.sport, main = \"SPORTxBMI\", shade = TRUE, legend = TRUE,abbreviate_labs = T)"
      ],
      "execution_count": null,
      "outputs": []
    },
    {
      "cell_type": "code",
      "metadata": {
        "id": "_vnPKg1aCacI",
        "colab_type": "code",
        "colab": {}
      },
      "source": [
        "mosaic(~ SPORT + SALUT, data = AVQ18.sport, main = \"SPORTxSALUT\", shade = TRUE, legend = TRUE,abbreviate_labs = T)"
      ],
      "execution_count": null,
      "outputs": []
    },
    {
      "cell_type": "code",
      "metadata": {
        "id": "u7ox3vsCCk9g",
        "colab_type": "code",
        "colab": {}
      },
      "source": [
        "mosaic(~ FREQSPO + BMI, data = AVQ18.sport, main = \"FREQSPOxBMI\", shade = TRUE, legend = TRUE,abbreviate_labs = T)"
      ],
      "execution_count": null,
      "outputs": []
    },
    {
      "cell_type": "code",
      "metadata": {
        "id": "pWcjwwakCoei",
        "colab_type": "code",
        "colab": {}
      },
      "source": [
        "mosaic(~ FREQSPO + SALUT, data = AVQ18.sport, main = \"FREQSPOxSALUT\", shade = TRUE, legend = TRUE,abbreviate_labs = T)"
      ],
      "execution_count": null,
      "outputs": []
    },
    {
      "cell_type": "markdown",
      "metadata": {
        "id": "znjeTkK9C6Pv",
        "colab_type": "text"
      },
      "source": [
        "#### Bivariata // Focus Ripartizione Geografica"
      ]
    },
    {
      "cell_type": "code",
      "metadata": {
        "id": "ZBMLxbmIDGPo",
        "colab_type": "code",
        "colab": {}
      },
      "source": [
        "mosaic(~ RIPMF + BMI, data = AVQ18.sport, main = \"RIPMFxBMI\", shade = TRUE, legend = TRUE,abbreviate_labs = T)"
      ],
      "execution_count": null,
      "outputs": []
    },
    {
      "cell_type": "code",
      "metadata": {
        "id": "SaeE_n0LDM6b",
        "colab_type": "code",
        "colab": {}
      },
      "source": [
        "mosaic(~ RIPMF + SALUT, data = AVQ18.sport, main = \"RIPMFxSALUT\", shade = TRUE, legend = TRUE,abbreviate_labs = T)"
      ],
      "execution_count": null,
      "outputs": []
    },
    {
      "cell_type": "code",
      "metadata": {
        "id": "vli7_iDyDTke",
        "colab_type": "code",
        "colab": {}
      },
      "source": [
        "mosaic(~ RIPMF + SPORT, data = AVQ18.sport, main = \"RIPMFxSPORT\", shade = TRUE, legend = TRUE,abbreviate_labs = T)"
      ],
      "execution_count": null,
      "outputs": []
    },
    {
      "cell_type": "code",
      "metadata": {
        "id": "pxtr9vhFDb6Y",
        "colab_type": "code",
        "colab": {}
      },
      "source": [
        "mosaic(~ RIPMF + FREQSPO, data = AVQ18.sport, main = \"RIPMFxFRESPO\", shade = TRUE, legend = TRUE,abbreviate_labs = T)"
      ],
      "execution_count": null,
      "outputs": []
    },
    {
      "cell_type": "markdown",
      "metadata": {
        "id": "zTrAjDFXDmwi",
        "colab_type": "text"
      },
      "source": [
        "#### Bivariata // Focus Risorse Economiche"
      ]
    },
    {
      "cell_type": "code",
      "metadata": {
        "id": "XTXcijYQDrGU",
        "colab_type": "code",
        "colab": {}
      },
      "source": [
        "mosaic(~ RISEC + BMI, data = AVQ18.sport, main = \"RISECxBMI\", shade = TRUE, legend = TRUE,abbreviate_labs = T)"
      ],
      "execution_count": null,
      "outputs": []
    },
    {
      "cell_type": "code",
      "metadata": {
        "id": "uTvU-CbUDxxr",
        "colab_type": "code",
        "colab": {}
      },
      "source": [
        "mosaic(~ RISEC + SALUT, data = AVQ18.sport, main = \"RISECxSALUT\", shade = TRUE, legend = TRUE,abbreviate_labs = T)"
      ],
      "execution_count": null,
      "outputs": []
    },
    {
      "cell_type": "code",
      "metadata": {
        "id": "SjPPq7prDyRI",
        "colab_type": "code",
        "colab": {}
      },
      "source": [
        "mosaic(~ RISEC + SPORT, data = AVQ18.sport, main = \"RISECxSPORT\", shade = TRUE, legend = TRUE,abbreviate_labs = T)"
      ],
      "execution_count": null,
      "outputs": []
    },
    {
      "cell_type": "code",
      "metadata": {
        "id": "qg-rEmPCDyh7",
        "colab_type": "code",
        "colab": {}
      },
      "source": [
        "mosaic(~ RISEC + FREQSPO, data = AVQ18.sport, main = \"RISECxFREQSPO\", shade = TRUE, legend = TRUE,abbreviate_labs = T)"
      ],
      "execution_count": null,
      "outputs": []
    },
    {
      "cell_type": "markdown",
      "metadata": {
        "id": "hEujn-fkFHfH",
        "colab_type": "text"
      },
      "source": [
        "#### Bivariata // Focus Istruzione"
      ]
    },
    {
      "cell_type": "code",
      "metadata": {
        "id": "kkaWfSSKFJwr",
        "colab_type": "code",
        "colab": {}
      },
      "source": [
        "mosaic(~ ISTRMi + BMI, data = AVQ18.sport, main = \"ISTRMixBMI\", shade = TRUE, legend = TRUE,abbreviate_labs = T)"
      ],
      "execution_count": null,
      "outputs": []
    },
    {
      "cell_type": "code",
      "metadata": {
        "id": "2S3EA1sAFMJU",
        "colab_type": "code",
        "colab": {}
      },
      "source": [
        "mosaic(~ ISTRMi + SALUT, data = AVQ18.sport, main = \"ISTRMixSALUT\", shade = TRUE, legend = TRUE,abbreviate_labs = T)"
      ],
      "execution_count": null,
      "outputs": []
    },
    {
      "cell_type": "code",
      "metadata": {
        "id": "Blgl-XesFN7x",
        "colab_type": "code",
        "colab": {}
      },
      "source": [
        "mosaic(~ ISTRMi + SPORT, data = AVQ18.sport, main = \"ISTRMixSPORT\", shade = TRUE, legend = TRUE,abbreviate_labs = T)"
      ],
      "execution_count": null,
      "outputs": []
    },
    {
      "cell_type": "code",
      "metadata": {
        "id": "-B2lRxtBFOxP",
        "colab_type": "code",
        "colab": {}
      },
      "source": [
        "mosaic(~ ISTRMi + FREQSPO, data = AVQ18.sport, main = \"ISTRMixFREQSPO\", shade = TRUE, legend = TRUE,abbreviate_labs = T)"
      ],
      "execution_count": null,
      "outputs": []
    },
    {
      "cell_type": "markdown",
      "metadata": {
        "id": "l-_0UdibFaVT",
        "colab_type": "text"
      },
      "source": [
        "#### Bivariata // Focus relazione tra variabili socio-economiche"
      ]
    },
    {
      "cell_type": "code",
      "metadata": {
        "id": "nbS7clw5FipJ",
        "colab_type": "code",
        "colab": {}
      },
      "source": [
        "mosaic(~ RISEC + RIPMF, data = AVQ18.sport, main = \"RISECxRIPMF\", shade = TRUE, legend = TRUE,abbreviate_labs = T)"
      ],
      "execution_count": null,
      "outputs": []
    },
    {
      "cell_type": "code",
      "metadata": {
        "id": "XGNzIe6tFqNs",
        "colab_type": "code",
        "colab": {}
      },
      "source": [
        "mosaic(~ RISEC + ISTRMi, data = AVQ18.sport, main = \"RISECxISTRMi\", shade = TRUE, legend = TRUE,abbreviate_labs = T)"
      ],
      "execution_count": null,
      "outputs": []
    },
    {
      "cell_type": "markdown",
      "metadata": {
        "id": "-SxV6ytED--O",
        "colab_type": "text"
      },
      "source": [
        "#### Bivariata // Focus Sesso"
      ]
    },
    {
      "cell_type": "code",
      "metadata": {
        "id": "A5wZ0fyIEVk5",
        "colab_type": "code",
        "colab": {}
      },
      "source": [
        "mosaic(~ SPORT + BMI + SESSO, data = AVQ18.sport, main = \"SPORTxBMIxSESSO\", shade = TRUE, legend = TRUE,abbreviate_labs = T)"
      ],
      "execution_count": null,
      "outputs": []
    },
    {
      "cell_type": "code",
      "metadata": {
        "id": "RD_m33AaEd7J",
        "colab_type": "code",
        "colab": {}
      },
      "source": [
        "mosaic(~ SPORT + ISTRMi + SESSO, data = AVQ18.sport, main = \"SPORTxISTRMixSESSO\", shade = TRUE, legend = TRUE,abbreviate_labs = T)"
      ],
      "execution_count": null,
      "outputs": []
    },
    {
      "cell_type": "code",
      "metadata": {
        "id": "QU8x0ZE5ElIH",
        "colab_type": "code",
        "colab": {}
      },
      "source": [
        "mosaic(~ SPORT + SALUT + SESSO, data = AVQ18.sport, main = \"SPORTxSALUTxSESSO\", shade = TRUE, legend = TRUE,abbreviate_labs = T)"
      ],
      "execution_count": null,
      "outputs": []
    },
    {
      "cell_type": "markdown",
      "metadata": {
        "id": "7IN39OtnLd7_",
        "colab_type": "text"
      },
      "source": [
        "#### Analisi Multivariata // MCA"
      ]
    },
    {
      "cell_type": "code",
      "metadata": {
        "id": "YdSBNP4ELhLu",
        "colab_type": "code",
        "colab": {}
      },
      "source": [
        "library(\"FactoMineR\")\n",
        "library(\"factoextra\")\n",
        "library(\"ggplot2\")"
      ],
      "execution_count": null,
      "outputs": []
    },
    {
      "cell_type": "code",
      "metadata": {
        "id": "tINF0K9bs2zb",
        "colab_type": "code",
        "colab": {}
      },
      "source": [
        "df <- AVQ18.sport[,c('BMI','SPORT','RISEC','RIPMF','SESSO')]\n",
        "df <- na.omit(df)\n",
        "# head(df)\n",
        "# number of categories per variable\n",
        "cats = apply(df, 2, function(x) nlevels(as.factor(x)))\n",
        "#cats\n",
        "# apply MCA\n",
        "mca1 = MCA(df, graph = FALSE)\n",
        "# list of results\n",
        "#mca1\n",
        "# data frame with variable coordinates\n",
        "mca1_vars_df = data.frame(mca1$var$coord, Variable = rep(names(cats), cats))\n",
        "# data frame with observation coordinates\n",
        "mca1_obs_df = data.frame(mca1$ind$coord)\n",
        "# MCA plot of observations and categories\n",
        "ggplot(data = mca1_obs_df, aes(x = Dim.1, y = Dim.2)) +\n",
        "  geom_hline(yintercept = 0, colour = \"gray70\") +\n",
        "  geom_vline(xintercept = 0, colour = \"gray70\") +\n",
        "  geom_point(colour = \"gray50\", alpha = 0.7) +\n",
        "  geom_density2d(colour = \"gray80\") +\n",
        "  geom_text(data = mca1_vars_df, \n",
        "            aes(x = Dim.1, y = Dim.2, \n",
        "                label = rownames(mca1_vars_df), colour = Variable)) +\n",
        "  ggtitle(\"MCA plot of variables using R package FactoMineR\") +\n",
        "  scale_colour_discrete(name = \"Variable\")"
      ],
      "execution_count": null,
      "outputs": []
    },
    {
      "cell_type": "code",
      "metadata": {
        "id": "iV2kIOIy3cel",
        "colab_type": "code",
        "colab": {}
      },
      "source": [
        "df <- AVQ18.sport[,c('SALUT','SPORT','RISEC','RIPMF','SESSO')]\n",
        "df <- na.omit(df)\n",
        "# head(df)\n",
        "# number of categories per variable\n",
        "cats = apply(df, 2, function(x) nlevels(as.factor(x)))\n",
        "#cats\n",
        "# apply MCA\n",
        "mca1 = MCA(df, graph = FALSE)\n",
        "# list of results\n",
        "#mca1\n",
        "# data frame with variable coordinates\n",
        "mca1_vars_df = data.frame(mca1$var$coord, Variable = rep(names(cats), cats))\n",
        "# data frame with observation coordinates\n",
        "mca1_obs_df = data.frame(mca1$ind$coord)\n",
        "# MCA plot of observations and categories\n",
        "ggplot(data = mca1_obs_df, aes(x = Dim.1, y = Dim.2)) +\n",
        "  geom_hline(yintercept = 0, colour = \"gray70\") +\n",
        "  geom_vline(xintercept = 0, colour = \"gray70\") +\n",
        "  geom_point(colour = \"gray50\", alpha = 0.7) +\n",
        "  geom_density2d(colour = \"gray80\") +\n",
        "  geom_text(data = mca1_vars_df, aes(x = Dim.1, y = Dim.2, label = rownames(mca1_vars_df), colour = Variable)) +\n",
        "  ggtitle(\"MCA plot of variables using R package FactoMineR\") +\n",
        "  scale_colour_discrete(name = \"Variable\")"
      ],
      "execution_count": null,
      "outputs": []
    },
    {
      "cell_type": "code",
      "metadata": {
        "id": "dD8Y-VJDxy5E",
        "colab_type": "code",
        "colab": {}
      },
      "source": [
        "df <- AVQ18.sport[,c('SALUT','BMI','SPORT')]\n",
        "df <- na.omit(df)\n",
        "cats = apply(df, 2, function(x) nlevels(as.factor(x)))\n",
        "mca1 = MCA(df, graph = FALSE)\n",
        "# data frame with variable coordinates\n",
        "mca1_vars_df = data.frame(mca1$var$coord, Variable = rep(names(cats), cats))\n",
        "# data frame with observation coordinates\n",
        "mca1_obs_df = data.frame(mca1$ind$coord)\n",
        "# MCA plot of observations and categories\n",
        "ggplot(data = mca1_obs_df, aes(x = Dim.1, y = Dim.2)) +\n",
        "  geom_hline(yintercept = 0, colour = \"gray70\") +\n",
        "  geom_vline(xintercept = 0, colour = \"gray70\") +\n",
        "  geom_point(colour = \"gray50\", alpha = 0.7) +\n",
        "  geom_density2d(colour = \"gray80\") +\n",
        "  geom_text(data = mca1_vars_df, \n",
        "            aes(x = Dim.1, y = Dim.2, \n",
        "                label = rownames(mca1_vars_df), colour = Variable)) +\n",
        "  ggtitle(\"MCA plot of variables using R package FactoMineR\") +\n",
        "  scale_colour_discrete(name = \"Variable\")"
      ],
      "execution_count": null,
      "outputs": []
    },
    {
      "cell_type": "code",
      "metadata": {
        "id": "eZ9JKl398RgT",
        "colab_type": "code",
        "colab": {}
      },
      "source": [
        "df <- AVQ18.sport[,c('RISEC','SPORT','RIPMF')]\n",
        "df <- na.omit(df)\n",
        "cats = apply(df, 2, function(x) nlevels(as.factor(x)))\n",
        "mca1 = MCA(df, graph = FALSE)\n",
        "# data frame with variable coordinates\n",
        "mca1_vars_df = data.frame(mca1$var$coord, Variable = rep(names(cats), cats))\n",
        "# data frame with observation coordinates\n",
        "mca1_obs_df = data.frame(mca1$ind$coord)\n",
        "# MCA plot of observations and categories\n",
        "ggplot(data = mca1_obs_df, aes(x = Dim.1, y = Dim.2)) +\n",
        "  geom_hline(yintercept = 0, colour = \"gray70\") +\n",
        "  geom_vline(xintercept = 0, colour = \"gray70\") +\n",
        "  geom_point(colour = \"gray50\", alpha = 0.7) +\n",
        "  geom_density2d(colour = \"gray80\") +\n",
        "  geom_text(data = mca1_vars_df, \n",
        "            aes(x = Dim.1, y = Dim.2, \n",
        "                label = rownames(mca1_vars_df), colour = Variable)) +\n",
        "  ggtitle(\"MCA plot of variables using R package FactoMineR\") +\n",
        "  scale_colour_discrete(name = \"Variable\")"
      ],
      "execution_count": null,
      "outputs": []
    },
    {
      "cell_type": "code",
      "metadata": {
        "id": "OQ-H4TLV8cAK",
        "colab_type": "code",
        "colab": {}
      },
      "source": [
        ""
      ],
      "execution_count": null,
      "outputs": []
    }
  ]
}